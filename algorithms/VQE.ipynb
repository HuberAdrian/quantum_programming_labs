{
 "cells": [
  {
   "cell_type": "markdown",
   "id": "24487fc1-58f7-4f7e-86b5-dcac7e81a712",
   "metadata": {},
   "source": [
    "## Variational Quantum Eigensolver (VQE) Implementation\n",
    "\n",
    "\n",
    "## Core Components of VQE\n",
    "\n",
    "VQE is a hybrid quantum-classical algorithm that consists of three essential ingredients:\n",
    "\n",
    "### 1. Ansatz ($U_A(\\theta)$)\n",
    "\n",
    "An educated guess of the solution to the problem\n",
    "A trial quantum state defined by a quantum circuit with tunable parameters\n",
    "Consists of:\n",
    "\n",
    "Reference Preparation ($U_R$): Initial state preparation\n",
    "Variational Form ($U_V(\\theta_i)$): Parameterized quantum operations\n",
    "\n",
    "\n",
    "\n",
    "### 2. Cost Function ($C(\\theta)$)\n",
    "\n",
    "Quantifies the quality of the Ansatz for a particular set of parameters\n",
    "Calculates the eigenvalue of the observable with respect to a particular quantum state\n",
    "Measured through multiple shots on quantum hardware\n",
    "\n",
    "### 3. Classical Optimizer\n",
    "\n",
    "Iteratively updates the Ansatz parameters based on the feedback provided by the cost evaluations\n",
    "Navigates the Ansatz parameter space to converge at the lowest possible cost\n",
    "Uses classical optimization techniques like COBYLA or SPSA\n",
    "\n",
    "<br>\n",
    "\n",
    "## Optimization Loop\n",
    "The VQE algorithm follows an iterative optimization process:\n",
    "\n",
    "Bootstrap: Initialize parameters $\\theta_i$\n",
    "Quantum Stage:\n",
    "\n",
    "Prepare reference state ($U_R$)\n",
    "Apply variational form ($U_V(\\theta_i)$)\n",
    "Perform measurements\n",
    "\n",
    "\n",
    "Classical Stage:\n",
    "\n",
    "Evaluate cost function $C(\\theta_i)$\n",
    "Run optimization to determine next parameters $\\theta_{i+1}$\n",
    "\n",
    "\n",
    "Repeat until convergence\n",
    "\n",
    "<br> \n",
    "\n",
    "## Required Imports"
   ]
  },
  {
   "cell_type": "code",
   "execution_count": 2,
   "id": "6d980286-cf43-4774-9168-a4b9e38141b5",
   "metadata": {},
   "outputs": [],
   "source": [
    "import numpy as np\n",
    "import pandas as pd\n",
    "import matplotlib.pyplot as plt\n",
    "from qiskit_nature import settings\n",
    "from qiskit_aer import AerSimulator\n",
    "from qiskit_algorithms.minimum_eigensolvers import VQE\n",
    "from qiskit_nature.second_q.formats.molecule_info import MoleculeInfo\n",
    "from qiskit_nature.second_q.mappers import ParityMapper\n",
    "from qiskit_nature.second_q.circuit.library import UCCSD, HartreeFock\n",
    "from qiskit_algorithms.optimizers import COBYLA\n",
    "from qiskit_nature.second_q.drivers import PySCFDriver\n",
    "from qiskit_nature.units import DistanceUnit\n",
    "from qiskit_ibm_runtime import QiskitRuntimeService, Session, Options, EstimatorV1 as Estimator\n",
    "from qiskit_aer.primitives import Estimator as AerEstimator\n",
    "settings.use_pauli_sum_op = False\n",
    "from token_file import token"
   ]
  },
  {
   "cell_type": "markdown",
   "id": "1ed81f0c-a623-4f53-b6e8-2a1e92d3fe6d",
   "metadata": {},
   "source": [
    "## Implementation Components\n",
    "\n",
    "### Molecule Configuration"
   ]
  },
  {
   "cell_type": "code",
   "execution_count": 3,
   "id": "533cc68c-f9f4-4cfa-b825-e5cef02467b5",
   "metadata": {},
   "outputs": [],
   "source": [
    "def get_qubit_op(dist):\n",
    "    \"\"\"\n",
    "    Creates a molecular Hamiltonian for H2 molecule at specified interatomic distance.\n",
    "    This Hamiltonian encodes the electronic structure problem we aim to solve.\n",
    "    The ground state energy of this Hamiltonian represents the molecule's lowest energy state.\n",
    "    \n",
    "    Args:\n",
    "        dist (float): Interatomic distance in Bohr\n",
    "        \n",
    "    Returns:\n",
    "        tuple: (qubit_op, num_particles, num_spatial_orbitals, problem, mapper)\n",
    "    \"\"\"\n",
    "    molecule = MoleculeInfo(\n",
    "        symbols = [\"H\", \"H\"],\n",
    "        coords = ([0,0,0], [0,0,dist]),\n",
    "        multiplicity=1,\n",
    "        charge=0,\n",
    "        units=DistanceUnit.BOHR\n",
    "    )\n",
    "    driver = PySCFDriver.from_molecule(molecule)\n",
    "    problem = driver.run()\n",
    "    num_particles = problem.num_particles\n",
    "    num_spatial_orbitals = problem.num_spatial_orbitals\n",
    "    mapper = ParityMapper(num_particles=num_particles)\n",
    "    qubit_op = mapper.map(problem.second_q_ops()[0])\n",
    "    return qubit_op, num_particles, num_spatial_orbitals, problem, mapper"
   ]
  },
  {
   "cell_type": "markdown",
   "id": "f1094260-da45-4a86-b3db-d1be1bb8d5e7",
   "metadata": {},
   "source": [
    "### Ansatz Construction"
   ]
  },
  {
   "cell_type": "code",
   "execution_count": 4,
   "id": "f96ff5c9-2d63-48d0-af14-f9c25b4f07c3",
   "metadata": {},
   "outputs": [],
   "source": [
    "def create_ansatz(num_spatial_orbitals, num_particles, mapper):\n",
    "    reference_state = HartreeFock(\n",
    "        num_spatial_orbitals,\n",
    "        num_particles,\n",
    "        mapper\n",
    "    )\n",
    "    var_form = UCCSD(\n",
    "        num_spatial_orbitals=num_spatial_orbitals,\n",
    "        num_particles=num_particles,\n",
    "        qubit_mapper=mapper,\n",
    "        initial_state=reference_state,\n",
    "    )\n",
    "    return var_form"
   ]
  },
  {
   "cell_type": "markdown",
   "id": "c7d818a6-ee67-4d33-95c9-bfac5df1bb36",
   "metadata": {},
   "source": [
    "### Execution"
   ]
  },
  {
   "cell_type": "code",
   "execution_count": 5,
   "id": "393a37ba-6c66-414f-bdc5-3f2b4fe6bb53",
   "metadata": {},
   "outputs": [],
   "source": [
    "# backend selection\n",
    "\n",
    "def setup_quantum_backend(service):\n",
    "    backend = service.least_busy(\n",
    "        min_num_qubits=1,\n",
    "        operational=True,\n",
    "        simulator=True\n",
    "    )\n",
    "    return backend"
   ]
  },
  {
   "cell_type": "code",
   "execution_count": 6,
   "id": "cdf7a2fd-403b-41d2-9f52-54b1a1175ec6",
   "metadata": {},
   "outputs": [],
   "source": [
    "# VQE Routine\n",
    "\n",
    "def run_vqe(qubit_op, var_form, estimator, optimizer=None):\n",
    "    if optimizer is None:\n",
    "        optimizer = COBYLA(maxiter=20)\n",
    "    \n",
    "    vqe_solver = VQE(estimator=estimator,\n",
    "                     ansatz=var_form,\n",
    "                     optimizer=optimizer)\n",
    "    \n",
    "    result = vqe_solver.compute_minimum_eigenvalue(qubit_op)\n",
    "    return result"
   ]
  },
  {
   "cell_type": "markdown",
   "id": "ad0cf578-df70-406d-b408-4efeea9c2391",
   "metadata": {},
   "source": [
    "## Error Mitigation\n",
    "For real quantum hardware execution:\n",
    "\n",
    "Set resilience_level=2 for zero-noise extrapolation\n",
    "Use optimized circuit transpilation\n",
    "Monitor error rates and gate counts\n",
    "\n",
    "### Visualization Functions"
   ]
  },
  {
   "cell_type": "code",
   "execution_count": 7,
   "id": "124bfbae-840d-4439-ae4f-d1f884ecec7c",
   "metadata": {},
   "outputs": [],
   "source": [
    "def plot_energy_landscape(energies, distances):\n",
    "    plt.figure(figsize=(10, 6))\n",
    "    plt.plot(distances, energies, 'o-')\n",
    "    plt.xlabel('Interatomic Distance (Bohr)')\n",
    "    plt.ylabel('Energy (Hartree)')\n",
    "    plt.title('Ground State Energy vs. Interatomic Distance')\n",
    "    plt.grid(True)\n",
    "    plt.show()"
   ]
  },
  {
   "cell_type": "code",
   "execution_count": 8,
   "id": "3259d14b-ab77-4118-afc2-b0006dbd3d59",
   "metadata": {},
   "outputs": [
    {
     "name": "stderr",
     "output_type": "stream",
     "text": [
      "/tmp/ipykernel_135/453865374.py:15: DeprecationWarning: The Sampler and Estimator V1 primitives have been deprecated as of qiskit-ibm-runtime 0.23.0 and will be removed no sooner than 3 months after the release date. Please use the V2 Primitives. See the `V2 migration guide <https://docs.quantum.ibm.com/api/migration-guides/v2-primitives>`_. for more details\n",
      "  estimator = Estimator(session=session, options={\"resilience_level\": 2})\n"
     ]
    },
    {
     "name": "stdout",
     "output_type": "stream",
     "text": [
      "Ground state energy: -1.907538 Hartree\n"
     ]
    }
   ],
   "source": [
    "# Configure problem\n",
    "dist = 1.2\n",
    "qubit_op, num_particles, num_spatial_orbitals, problem, mapper = get_qubit_op(dist)\n",
    "\n",
    "# Create ansatz\n",
    "var_form = create_ansatz(num_spatial_orbitals, num_particles, mapper)\n",
    "\n",
    "# Setup backend\n",
    "# Initialize service and backend\n",
    "service = QiskitRuntimeService(channel=\"ibm_quantum\", token=token)\n",
    "real_backend = service.backend('ibm_brisbane') \n",
    "sim_backend = AerSimulator.from_backend(real_backend)\n",
    "\n",
    "with Session(backend=sim_backend) as session:\n",
    "    estimator = Estimator(session=session, options={\"resilience_level\": 2})\n",
    "    result = run_vqe(qubit_op, var_form, estimator)\n",
    "\n",
    "print(f\"Ground state energy: {result.eigenvalue.real:.6f} Hartree\")"
   ]
  },
  {
   "cell_type": "code",
   "execution_count": 9,
   "id": "d4f8d078-9c06-41d0-a510-e5a5251fbd39",
   "metadata": {},
   "outputs": [
    {
     "name": "stderr",
     "output_type": "stream",
     "text": [
      "/tmp/ipykernel_135/4142971736.py:10: DeprecationWarning: The Sampler and Estimator V1 primitives have been deprecated as of qiskit-ibm-runtime 0.23.0 and will be removed no sooner than 3 months after the release date. Please use the V2 Primitives. See the `V2 migration guide <https://docs.quantum.ibm.com/api/migration-guides/v2-primitives>`_. for more details\n",
      "  estimator = Estimator(session=session, options={\"resilience_level\": 2})\n"
     ]
    },
    {
     "name": "stdout",
     "output_type": "stream",
     "text": [
      "Distance: 0.500 Bohr, Energy: -1.536795 Hartree\n",
      "Distance: 0.727 Bohr, Energy: -2.234612 Hartree\n",
      "Distance: 0.955 Bohr, Energy: -2.093182 Hartree\n",
      "Distance: 1.182 Bohr, Energy: -1.911826 Hartree\n",
      "Distance: 1.409 Bohr, Energy: -1.842142 Hartree\n",
      "Distance: 1.636 Bohr, Energy: -1.736746 Hartree\n",
      "Distance: 1.864 Bohr, Energy: -1.634981 Hartree\n",
      "Distance: 2.091 Bohr, Energy: -1.551868 Hartree\n",
      "Distance: 2.318 Bohr, Energy: -1.477394 Hartree\n",
      "Distance: 2.545 Bohr, Energy: -1.417654 Hartree\n",
      "Distance: 2.773 Bohr, Energy: -1.353780 Hartree\n",
      "Distance: 3.000 Bohr, Energy: -1.279207 Hartree\n"
     ]
    },
    {
     "data": {
      "image/png": "[encoded data removed]",
      "text/plain": [
       "<Figure size 1000x600 with 1 Axes>"
      ]
     },
     "metadata": {},
     "output_type": "display_data"
    }
   ],
   "source": [
    "# Calculate energies for a range of distances\n",
    "distances = np.linspace(0.5, 3, 12)  # 12 points between 0.5 and 3 Bohr\n",
    "energies = []\n",
    "\n",
    "service = QiskitRuntimeService(channel=\"ibm_quantum\", token=token)\n",
    "real_backend = service.backend('ibm_brisbane')\n",
    "sim_backend = AerSimulator.from_backend(real_backend)\n",
    "\n",
    "with Session(service=service, backend=sim_backend) as session:\n",
    "    estimator = Estimator(session=session, options={\"resilience_level\": 2})\n",
    "    \n",
    "    for dist in distances:\n",
    "        qubit_op, num_particles, num_spatial_orbitals, problem, mapper = get_qubit_op(dist)\n",
    "        var_form = create_ansatz(num_spatial_orbitals, num_particles, mapper)\n",
    "        result = run_vqe(qubit_op, var_form, estimator)\n",
    "        energies.append(result.eigenvalue.real)\n",
    "        print(f\"Distance: {dist:.3f} Bohr, Energy: {result.eigenvalue.real:.6f} Hartree\")\n",
    "\n",
    "plot_energy_landscape(energies, distances)"
   ]
  }
 ],
 "metadata": {
  "kernelspec": {
   "display_name": "Python 3 (ipykernel)",
   "language": "python",
   "name": "python3"
  },
  "language_info": {
   "codemirror_mode": {
    "name": "ipython",
    "version": 3
   },
   "file_extension": ".py",
   "mimetype": "text/x-python",
   "name": "python",
   "nbconvert_exporter": "python",
   "pygments_lexer": "ipython3",
   "version": "3.10.14"
  }
 },
 "nbformat": 4,
 "nbformat_minor": 5
}
